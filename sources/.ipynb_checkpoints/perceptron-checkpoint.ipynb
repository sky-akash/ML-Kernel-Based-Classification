{
 "cells": [
  {
   "cell_type": "code",
   "execution_count": null,
   "id": "388219c7-b092-4fa0-84f2-005cac188600",
   "metadata": {},
   "outputs": [],
   "source": [
    "# This is a class for perceptron from scratch without using sklean library."
   ]
  },
  {
   "cell_type": "code",
   "execution_count": 1,
   "id": "84d584dc-d3bf-4dd8-9bd6-cbb42f343c82",
   "metadata": {},
   "outputs": [],
   "source": [
    "# For creating the perceptron class, we need \n",
    "# default __init__ function with inputs/ initializers\n",
    "# activation_function, lets choose unit_step/ and relu\n",
    "# fit funtion to fit the model on training data including the update of weights\n",
    "# predict function to make predictions on the test data  "
   ]
  },
  {
   "cell_type": "code",
   "execution_count": 9,
   "id": "5c02b2b3-321b-40f0-932a-984dd2a6799f",
   "metadata": {},
   "outputs": [],
   "source": [
    "import numpy as np"
   ]
  },
  {
   "cell_type": "code",
   "execution_count": 21,
   "id": "0147f6e8-577a-4b80-b8c2-a5647c3b860e",
   "metadata": {},
   "outputs": [],
   "source": []
  },
  {
   "cell_type": "code",
   "execution_count": 23,
   "id": "7574c19d-329c-455a-b457-a4d11e8a361d",
   "metadata": {},
   "outputs": [],
   "source": [
    "\n"
   ]
  },
  {
   "cell_type": "code",
   "execution_count": 3,
   "id": "255690d4-c826-4dfe-bf20-0eec31942d2a",
   "metadata": {},
   "outputs": [],
   "source": [
    "# Defining the Perceptron Class\n",
    "\n",
    "class Perceptron:\n",
    "    def __init__(self, learning_rate = 0.01, epochs = 1000, activation_func = 'unit_step_func'):\n",
    "        self.learning_rate = learning_rate\n",
    "        self.epochs = epochs\n",
    "        self.activation_func = activation_func\n",
    "        self.weights = None\n",
    "        self.bias = None\n",
    "\n",
    "    # Defining Activation Functions\n",
    "    # 1 -> Unit Step Function\n",
    "    def unit_step_func(self, z):\n",
    "        return np.where(z>0, 1, 0)\n",
    "\n",
    "    # 2 -> Heavyside Function\n",
    "    def heaviside_func(self, z):\n",
    "        return np.heaviside(z,0)\n",
    "\n",
    "    # 3 -> ReLu function\n",
    "    def relu_func(self,z):\n",
    "        return np.maximum(0, z)\n",
    "    \n",
    "    # Defining an activation method for selection of a proper activation function as specified in class instantiation\n",
    "    def activation(self, z):\n",
    "        if self.activation_func == 'unit_step_func':\n",
    "            return self.unit_step_func(z)\n",
    "        elif self.activation_func == 'heaviside_func':\n",
    "            return self.heaviside_func(z)\n",
    "        elif self.activation_func == 'relu_func':\n",
    "            return self.relu_func(z)\n",
    "        else:\n",
    "            raise ValueError(\"Invalid activation function\")\n",
    "\n",
    "    def fit(self, X, y): # Defining the Fit function for the perceptron\n",
    "        n_samples, n_features = X.shape\n",
    "        # Initialize Parameters i.e. weights and bias\n",
    "        self.weights = np.zeros(n_features) # Weights is a vector for all the inputs\n",
    "        self.bias = 0 # A scalar as it is same for one Perceptron unit\n",
    "        \n",
    "        y_ = np.where(y>0, 1, 0) # Converting the labels to binary (however not need for ouu dataset).\n",
    "\n",
    "        # Learning the Weights -> run a loop and iterate for number of epochs\n",
    "        for i in range(self.epochs):\n",
    "            # Run a loop to traverse the whole training set\n",
    "            for idx, x_i in enumerate(X):\n",
    "                z = np.dot(x_i, self.weights) + self.bias\n",
    "                y_predicted = self.activation(z)\n",
    "                # Perceptron Update for learning rate and weights and bias\n",
    "                update = self.learning_rate * (y_[idx] - y_predicted)\n",
    "                self.weights += update * x_i\n",
    "                self.bias += update\n",
    "        return self.weights, self.bias # Returning the final weights and bias\n",
    "\n",
    "    def predict(self,X):\n",
    "        z = np.dot(X, self.weights) + self.bias\n",
    "        return self.activation(z)"
   ]
  },
  {
   "cell_type": "code",
   "execution_count": null,
   "id": "76bc9219-fae6-4662-8ceb-13261e8e8cc7",
   "metadata": {},
   "outputs": [],
   "source": []
  },
  {
   "cell_type": "code",
   "execution_count": null,
   "id": "e63c43ff-1561-43ee-b5b3-ba0d782b3322",
   "metadata": {},
   "outputs": [],
   "source": []
  },
  {
   "cell_type": "code",
   "execution_count": null,
   "id": "cfbe0873-4698-4e86-8e39-a8220abec650",
   "metadata": {},
   "outputs": [],
   "source": []
  },
  {
   "cell_type": "code",
   "execution_count": null,
   "id": "d971983a-10d9-4299-9b71-4332208ca9d9",
   "metadata": {},
   "outputs": [],
   "source": []
  },
  {
   "cell_type": "code",
   "execution_count": null,
   "id": "fef82339-4876-441a-b3f9-9b9978a56b41",
   "metadata": {},
   "outputs": [],
   "source": []
  },
  {
   "cell_type": "code",
   "execution_count": null,
   "id": "423a06f3-aeec-4fc0-8840-8bdbaa74c58e",
   "metadata": {},
   "outputs": [],
   "source": []
  },
  {
   "cell_type": "code",
   "execution_count": null,
   "id": "6a8d9530-c23b-4755-a7d5-1b1c32a291b6",
   "metadata": {},
   "outputs": [],
   "source": []
  },
  {
   "cell_type": "code",
   "execution_count": null,
   "id": "68bd973a-9a8a-446c-895e-0de9db0a040c",
   "metadata": {},
   "outputs": [],
   "source": []
  },
  {
   "cell_type": "code",
   "execution_count": null,
   "id": "9d5f3a83-0592-42d6-b941-bdddb56b6c72",
   "metadata": {},
   "outputs": [],
   "source": []
  }
 ],
 "metadata": {
  "kernelspec": {
   "display_name": "Python 3 (ipykernel)",
   "language": "python",
   "name": "python3"
  },
  "language_info": {
   "codemirror_mode": {
    "name": "ipython",
    "version": 3
   },
   "file_extension": ".py",
   "mimetype": "text/x-python",
   "name": "python",
   "nbconvert_exporter": "python",
   "pygments_lexer": "ipython3",
   "version": "3.11.9"
  }
 },
 "nbformat": 4,
 "nbformat_minor": 5
}
