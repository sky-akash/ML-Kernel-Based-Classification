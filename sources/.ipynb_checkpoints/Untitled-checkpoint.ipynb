{
 "cells": [
  {
   "cell_type": "code",
   "execution_count": 1,
   "id": "1d617a1c-daf7-47e6-aa78-5d06ce39b8b6",
   "metadata": {},
   "outputs": [],
   "source": [
    "# Example usage\n",
    "from sklearn.datasets import make_classification\n",
    "from sklearn.model_selection import train_test_split\n",
    "from sklearn.linear_model import LogisticRegression as SklearnLogisticRegression\n",
    "from sklearn.metrics import accuracy_score\n",
    "\n",
    "\n",
    "# Generate a synthetic dataset\n",
    "X, y = make_classification(n_samples=1000, n_features=20, random_state=42)\n",
    "y = 2 * y - 1  # Convert labels to {-1, 1}\n",
    "\n",
    "# Split the dataset into training and test sets\n",
    "X_train, X_test, y_train, y_test = train_test_split(X, y, test_size=0.3, random_state=42)"
   ]
  },
  {
   "cell_type": "code",
   "execution_count": 2,
   "id": "af2abfa9-585c-4f75-af20-dbde08a1ae7c",
   "metadata": {},
   "outputs": [],
   "source": [
    "import numpy as np\n",
    "import pandas as pd"
   ]
  },
  {
   "cell_type": "code",
   "execution_count": 23,
   "id": "676e039e-c34f-4b87-a4ab-f266fe3d0302",
   "metadata": {},
   "outputs": [],
   "source": [
    "from Reg_log_class_2 import LogisticRegressionPegasos "
   ]
  },
  {
   "cell_type": "code",
   "execution_count": 25,
   "id": "0e956f79-3f2e-437a-9a33-bdf79033c7e4",
   "metadata": {},
   "outputs": [
    {
     "name": "stdout",
     "output_type": "stream",
     "text": [
      "Custom Logistic Regression (Pegasos) Accuracy: 86.81%\n",
      "Scikit-learn Logistic Regression Accuracy: 86.81%\n",
      "Difference in accuracy: -0.0001\n"
     ]
    }
   ],
   "source": [
    "\n",
    "\n",
    "# Initialize your custom model\n",
    "custom_model = LogisticRegressionPegasos(lambda_param=0.01, epochs=1000, batch_size=32)\n",
    "\n",
    "# Train your custom model\n",
    "custom_model.fit(X_train, y_train)\n",
    "\n",
    "# Make predictions on the test set using the custom model\n",
    "y_pred_custom = custom_model.predict(X_test)\n",
    "\n",
    "# Evaluate the accuracy of your custom model\n",
    "accuracy_custom = custom_model.score(X_test, y_test)\n",
    "print(f\"Custom Logistic Regression (Pegasos) Accuracy: {accuracy_custom * 100:.2f}%\")\n",
    "\n",
    "# Now, let's compare with Scikit-learn's Logistic Regression\n",
    "\n",
    "# Initialize Scikit-learn's Logistic Regression model\n",
    "sklearn_model = SklearnLogisticRegression(max_iter=1000, C=1 / custom_model.lambda_param)\n",
    "\n",
    "# Train Scikit-learn model\n",
    "sklearn_model.fit(X_train, y_train)\n",
    "\n",
    "# Make predictions on the test set using Scikit-learn model\n",
    "y_pred_sklearn = sklearn_model.predict(X_test)\n",
    "\n",
    "# Evaluate accuracy of Scikit-learn model\n",
    "accuracy_sklearn = accuracy_score(y_test, y_pred_sklearn)\n",
    "print(f\"Scikit-learn Logistic Regression Accuracy: {accuracy_sklearn * 100:.2f}%\")\n",
    "\n",
    "# Compare the performance\n",
    "print(f\"Difference in accuracy: {accuracy_custom - accuracy_sklearn:.4f}\")"
   ]
  },
  {
   "cell_type": "code",
   "execution_count": 222,
   "id": "229d3c2c-375f-492c-8c70-1351b85823df",
   "metadata": {},
   "outputs": [
    {
     "data": {
      "text/plain": [
       "array([[ 0.32854696, -1.38472411, -0.28481909, ..., -0.35519863,\n",
       "        -1.16548841,  2.07355476],\n",
       "       [ 0.80186893,  2.39092841, -1.23236737, ...,  0.07414635,\n",
       "         1.12068474,  1.60592972],\n",
       "       [-0.67452638, -0.26100029, -0.46492392, ..., -0.36830579,\n",
       "        -0.06812574,  0.09652095],\n",
       "       ...,\n",
       "       [ 2.3982027 , -0.90220784,  1.11983808, ..., -1.82755549,\n",
       "         2.29541619,  1.19841115],\n",
       "       [-1.76879278, -1.4974879 ,  0.04455865, ..., -0.4673078 ,\n",
       "         1.65219927,  1.0951316 ],\n",
       "       [ 0.45084218,  0.62684653, -1.88855924, ..., -0.15588452,\n",
       "         0.53846095, -0.83846083]])"
      ]
     },
     "execution_count": 222,
     "metadata": {},
     "output_type": "execute_result"
    }
   ],
   "source": [
    "X"
   ]
  },
  {
   "cell_type": "code",
   "execution_count": 162,
   "id": "32155763-367d-4eff-9c8e-a246aa8dbfe0",
   "metadata": {},
   "outputs": [],
   "source": [
    "xdf = X"
   ]
  },
  {
   "cell_type": "code",
   "execution_count": 164,
   "id": "38d124d1-0920-4176-9964-067552d7ed35",
   "metadata": {},
   "outputs": [
    {
     "data": {
      "text/plain": [
       "array([[ 0.32854696, -1.38472411, -0.28481909, ..., -0.35519863,\n",
       "        -1.16548841,  2.07355476],\n",
       "       [ 0.80186893,  2.39092841, -1.23236737, ...,  0.07414635,\n",
       "         1.12068474,  1.60592972],\n",
       "       [-0.67452638, -0.26100029, -0.46492392, ..., -0.36830579,\n",
       "        -0.06812574,  0.09652095],\n",
       "       ...,\n",
       "       [ 2.3982027 , -0.90220784,  1.11983808, ..., -1.82755549,\n",
       "         2.29541619,  1.19841115],\n",
       "       [-1.76879278, -1.4974879 ,  0.04455865, ..., -0.4673078 ,\n",
       "         1.65219927,  1.0951316 ],\n",
       "       [ 0.45084218,  0.62684653, -1.88855924, ..., -0.15588452,\n",
       "         0.53846095, -0.83846083]])"
      ]
     },
     "execution_count": 164,
     "metadata": {},
     "output_type": "execute_result"
    }
   ],
   "source": [
    "xdf"
   ]
  },
  {
   "cell_type": "code",
   "execution_count": 166,
   "id": "5d804a90-e40e-4977-8cce-78addd6abdf3",
   "metadata": {},
   "outputs": [],
   "source": [
    "x_red = xdf[1:10, 1:4]"
   ]
  },
  {
   "cell_type": "code",
   "execution_count": 168,
   "id": "4d530354-721c-4805-9d54-2c0af7ddc5ac",
   "metadata": {},
   "outputs": [
    {
     "data": {
      "text/plain": [
       "array([[ 2.39092841, -1.23236737,  1.14451259],\n",
       "       [-0.26100029, -0.46492392, -1.49530786],\n",
       "       [ 1.10092938,  0.81844556, -0.57365054],\n",
       "       [-0.61761951, -0.1043526 ,  0.986159  ],\n",
       "       [ 0.28225572, -0.4982754 , -0.47914723],\n",
       "       [-1.15650294, -1.33477408, -0.93525955],\n",
       "       [ 0.08972072,  0.3146311 , -1.09785198],\n",
       "       [-0.91953208, -0.72854409,  0.81686177],\n",
       "       [-0.13677844, -0.13784019,  0.23235335]])"
      ]
     },
     "execution_count": 168,
     "metadata": {},
     "output_type": "execute_result"
    }
   ],
   "source": [
    "x_red"
   ]
  },
  {
   "cell_type": "code",
   "execution_count": 170,
   "id": "45a918c6-a0d5-45ef-a826-ef9842aa1cad",
   "metadata": {},
   "outputs": [],
   "source": [
    "n, m = x_red.shape"
   ]
  },
  {
   "cell_type": "code",
   "execution_count": 172,
   "id": "a0e44146-7066-48e5-ad38-7f0617e06fa9",
   "metadata": {},
   "outputs": [
    {
     "data": {
      "text/plain": [
       "(9, 3)"
      ]
     },
     "execution_count": 172,
     "metadata": {},
     "output_type": "execute_result"
    }
   ],
   "source": [
    "n, m"
   ]
  },
  {
   "cell_type": "code",
   "execution_count": 174,
   "id": "b78893ea-3538-4cc8-8a65-cf20f83cae42",
   "metadata": {},
   "outputs": [
    {
     "data": {
      "text/plain": [
       "[array([[ 2.39092841, -1.23236737,  1.14451259],\n",
       "        [-0.26100029, -0.46492392, -1.49530786],\n",
       "        [ 1.10092938,  0.81844556, -0.57365054],\n",
       "        [-0.61761951, -0.1043526 ,  0.986159  ],\n",
       "        [ 0.28225572, -0.4982754 , -0.47914723],\n",
       "        [-1.15650294, -1.33477408, -0.93525955],\n",
       "        [ 0.08972072,  0.3146311 , -1.09785198],\n",
       "        [-0.91953208, -0.72854409,  0.81686177],\n",
       "        [-0.13677844, -0.13784019,  0.23235335]])]"
      ]
     },
     "execution_count": 174,
     "metadata": {},
     "output_type": "execute_result"
    }
   ],
   "source": [
    "poly_feat = [x_red]\n",
    "poly_feat"
   ]
  },
  {
   "cell_type": "code",
   "execution_count": 176,
   "id": "387c89a6-b57e-4351-991e-c0c6861855a1",
   "metadata": {},
   "outputs": [
    {
     "data": {
      "text/plain": [
       "list"
      ]
     },
     "execution_count": 176,
     "metadata": {},
     "output_type": "execute_result"
    }
   ],
   "source": [
    "type(poly_feat)"
   ]
  },
  {
   "cell_type": "code",
   "execution_count": 180,
   "id": "c709ed51-7f3d-4fd4-9abd-4001f9ea71b6",
   "metadata": {},
   "outputs": [
    {
     "ename": "IndexError",
     "evalue": "list index out of range",
     "output_type": "error",
     "traceback": [
      "\u001b[1;31m---------------------------------------------------------------------------\u001b[0m",
      "\u001b[1;31mIndexError\u001b[0m                                Traceback (most recent call last)",
      "Cell \u001b[1;32mIn[180], line 1\u001b[0m\n\u001b[1;32m----> 1\u001b[0m poly_feat[\u001b[38;5;241m1\u001b[39m]\n",
      "\u001b[1;31mIndexError\u001b[0m: list index out of range"
     ]
    }
   ],
   "source": [
    "poly_feat[1]"
   ]
  },
  {
   "cell_type": "code",
   "execution_count": 182,
   "id": "8b6e8d16-59d3-4e44-955b-886ce54a7cd5",
   "metadata": {},
   "outputs": [
    {
     "data": {
      "text/plain": [
       "numpy.ndarray"
      ]
     },
     "execution_count": 182,
     "metadata": {},
     "output_type": "execute_result"
    }
   ],
   "source": [
    "type(poly_feat[0]) # List containing a dataframe"
   ]
  },
  {
   "cell_type": "code",
   "execution_count": 184,
   "id": "db506ecf-69a8-4701-b7ce-4cc3059dd3cd",
   "metadata": {},
   "outputs": [
    {
     "data": {
      "text/plain": [
       "(9, 3)"
      ]
     },
     "execution_count": 184,
     "metadata": {},
     "output_type": "execute_result"
    }
   ],
   "source": [
    "X = x_red\n",
    "X.shape"
   ]
  },
  {
   "cell_type": "code",
   "execution_count": 152,
   "id": "fac9a5ad-1976-43ea-9d9a-452b3d6781b6",
   "metadata": {},
   "outputs": [
    {
     "data": {
      "text/plain": [
       "numpy.ndarray"
      ]
     },
     "execution_count": 152,
     "metadata": {},
     "output_type": "execute_result"
    }
   ],
   "source": [
    "# square_terms = X[:,1:2] ** 2\n",
    "# square_terms.shape\n",
    "# type(square_terms)"
   ]
  },
  {
   "cell_type": "code",
   "execution_count": 154,
   "id": "20c170cf-09c8-467a-9a36-839fe4f4eb33",
   "metadata": {},
   "outputs": [
    {
     "data": {
      "text/plain": [
       "numpy.ndarray"
      ]
     },
     "execution_count": 154,
     "metadata": {},
     "output_type": "execute_result"
    }
   ],
   "source": [
    "# int_term = (X[:,1:2] * X[:,2:3]) ** (2-1)\n",
    "# int_term.shape\n",
    "# type(int_term)"
   ]
  },
  {
   "cell_type": "code",
   "execution_count": 186,
   "id": "5b3d6d52-76bd-4655-870e-c65171964fb2",
   "metadata": {},
   "outputs": [
    {
     "name": "stdout",
     "output_type": "stream",
     "text": [
      "Item 0 shape: (9, 3)  Type: <class 'numpy.ndarray'>\n"
     ]
    }
   ],
   "source": [
    "for idx, item in enumerate(poly_feat):\n",
    "    print(f\"Item {idx} shape: {item.shape}  Type: {type(item)}\")"
   ]
  },
  {
   "cell_type": "code",
   "execution_count": null,
   "id": "0f1cafde-2c4b-45b9-b960-c99a37c9b7fb",
   "metadata": {},
   "outputs": [],
   "source": []
  },
  {
   "cell_type": "code",
   "execution_count": null,
   "id": "0e6ef514-91d0-4156-bd51-4d3d791c48c0",
   "metadata": {},
   "outputs": [],
   "source": []
  },
  {
   "cell_type": "code",
   "execution_count": 188,
   "id": "ec7f4ff7-44f8-475c-a61a-2f0637a36a2a",
   "metadata": {},
   "outputs": [
    {
     "name": "stdout",
     "output_type": "stream",
     "text": [
      "Item 0 shape: (9, 3)  Type: <class 'numpy.ndarray'>\n",
      "Item 1 shape: (9, 1)  Type: <class 'numpy.ndarray'>\n",
      "Item 2 shape: (9, 1)  Type: <class 'numpy.ndarray'>\n",
      "Item 3 shape: (9, 1)  Type: <class 'numpy.ndarray'>\n",
      "Item 4 shape: (9, 1)  Type: <class 'numpy.ndarray'>\n",
      "Item 5 shape: (9, 1)  Type: <class 'numpy.ndarray'>\n",
      "Item 6 shape: (9, 1)  Type: <class 'numpy.ndarray'>\n"
     ]
    }
   ],
   "source": [
    "# let's create the polynomial degree terms.... lets focus on square terms only for now \n",
    "\n",
    "d = 2\n",
    "\n",
    "for d in range(2, d+1):           # why ? because d withh start to iterate from 2 and will stop at 3(exclusive)...so upto degree 2 here\n",
    "    # Now degree is set, we need squares of each feature so will loop for each feature and square the vector\n",
    "    for i in range(m): # range is m (columns), i.e. number of features\n",
    "        # square of all the vector (column)\n",
    "        # X[:, i:i+1] ** d -------- i+1 just to keep the output in 2D \n",
    "        # and append it to the list, using  poly_feat.append\n",
    "        square_terms = X[:,i:i+1] ** d\n",
    "        poly_feat.append(square_terms)\n",
    "        # nice\n",
    "\n",
    "    # Now Interaction Terms hehe\n",
    "    for i in range(m):\n",
    "        # need a loop to start from first column and multiply it in pair with every column on right, and \n",
    "        # then start from 2nd column till end column is reached\n",
    "        for j in range(i+1, m):\n",
    "            int_term = (X[:,i:i+1] * X[:,j:j+1]) ** (d-1)\n",
    "            poly_feat.append(int_term)\n",
    "\n",
    "# Check the shapes of all the arrays in poly_feat\n",
    "for idx, item in enumerate(poly_feat):\n",
    "    print(f\"Item {idx} shape: {item.shape}  Type: {type(item)}\")\n",
    "    "
   ]
  },
  {
   "cell_type": "code",
   "execution_count": 190,
   "id": "9b867970-65b7-4cdf-b1fc-76d4caf497f0",
   "metadata": {},
   "outputs": [],
   "source": [
    "result = np.hstack(poly_feat)"
   ]
  },
  {
   "cell_type": "code",
   "execution_count": 202,
   "id": "54809d6d-e3ea-489e-b7a2-386e4d8e70e0",
   "metadata": {},
   "outputs": [
    {
     "data": {
      "text/plain": [
       "[array([[ 2.39092841, -1.23236737,  1.14451259],\n",
       "        [-0.26100029, -0.46492392, -1.49530786],\n",
       "        [ 1.10092938,  0.81844556, -0.57365054],\n",
       "        [-0.61761951, -0.1043526 ,  0.986159  ],\n",
       "        [ 0.28225572, -0.4982754 , -0.47914723],\n",
       "        [-1.15650294, -1.33477408, -0.93525955],\n",
       "        [ 0.08972072,  0.3146311 , -1.09785198],\n",
       "        [-0.91953208, -0.72854409,  0.81686177],\n",
       "        [-0.13677844, -0.13784019,  0.23235335]]),\n",
       " array([[5.71653864],\n",
       "        [0.06812115],\n",
       "        [1.2120455 ],\n",
       "        [0.38145386],\n",
       "        [0.07966829],\n",
       "        [1.33749906],\n",
       "        [0.00804981],\n",
       "        [0.84553925],\n",
       "        [0.01870834]]),\n",
       " array([[1.51872932],\n",
       "        [0.21615425],\n",
       "        [0.66985313],\n",
       "        [0.01088946],\n",
       "        [0.24827837],\n",
       "        [1.78162186],\n",
       "        [0.09899273],\n",
       "        [0.53077648],\n",
       "        [0.01899992]]),\n",
       " array([[1.30990906],\n",
       "        [2.2359456 ],\n",
       "        [0.32907494],\n",
       "        [0.97250957],\n",
       "        [0.22958207],\n",
       "        [0.87471042],\n",
       "        [1.20527898],\n",
       "        [0.66726315],\n",
       "        [0.05398808]]),\n",
       " array([[-2.94650214],\n",
       "        [ 0.12134528],\n",
       "        [ 0.90105076],\n",
       "        [ 0.0644502 ],\n",
       "        [-0.14064108],\n",
       "        [ 1.54367016],\n",
       "        [ 0.02822893],\n",
       "        [ 0.66991966],\n",
       "        [ 0.01885357]]),\n",
       " array([[ 2.73644765],\n",
       "        [ 0.39027579],\n",
       "        [-0.63154873],\n",
       "        [-0.60907104],\n",
       "        [-0.13524205],\n",
       "        [ 1.08163042],\n",
       "        [-0.09850007],\n",
       "        [-0.75113061],\n",
       "        [-0.03178093]]),\n",
       " array([[-1.41045996],\n",
       "        [ 0.69520439],\n",
       "        [-0.46950173],\n",
       "        [-0.10290825],\n",
       "        [ 0.23874728],\n",
       "        [ 1.24836021],\n",
       "        [-0.34541837],\n",
       "        [-0.59511981],\n",
       "        [-0.03202763]])]"
      ]
     },
     "execution_count": 202,
     "metadata": {},
     "output_type": "execute_result"
    }
   ],
   "source": [
    "poly_feat"
   ]
  },
  {
   "cell_type": "code",
   "execution_count": null,
   "id": "6645a9ca-c96c-46af-a129-ae982cb65858",
   "metadata": {},
   "outputs": [],
   "source": []
  },
  {
   "cell_type": "code",
   "execution_count": null,
   "id": "54d9edd9-1bbc-49b2-8e8b-9229be1242e2",
   "metadata": {},
   "outputs": [],
   "source": []
  },
  {
   "cell_type": "code",
   "execution_count": null,
   "id": "7e46f04e-4988-4e47-ac3a-d0414517d03d",
   "metadata": {},
   "outputs": [],
   "source": []
  },
  {
   "cell_type": "code",
   "execution_count": null,
   "id": "a15a7021-696a-4618-b7d6-4079d3e9fb26",
   "metadata": {},
   "outputs": [],
   "source": []
  },
  {
   "cell_type": "code",
   "execution_count": 140,
   "id": "b2851543-0546-429c-9002-318efbd27fd6",
   "metadata": {},
   "outputs": [
    {
     "data": {
      "text/plain": [
       "array([[1.30990906],\n",
       "       [2.2359456 ],\n",
       "       [0.32907494],\n",
       "       [0.97250957],\n",
       "       [0.22958207],\n",
       "       [0.87471042],\n",
       "       [1.20527898],\n",
       "       [0.66726315],\n",
       "       [0.05398808]])"
      ]
     },
     "execution_count": 140,
     "metadata": {},
     "output_type": "execute_result"
    }
   ],
   "source": [
    "square_terms"
   ]
  },
  {
   "cell_type": "code",
   "execution_count": 142,
   "id": "bd31c6fa-8a5a-4eff-af2d-dce58a8a0818",
   "metadata": {},
   "outputs": [
    {
     "data": {
      "text/plain": [
       "array([[-1.41045996],\n",
       "       [ 0.69520439],\n",
       "       [-0.46950173],\n",
       "       [-0.10290825],\n",
       "       [ 0.23874728],\n",
       "       [ 1.24836021],\n",
       "       [-0.34541837],\n",
       "       [-0.59511981],\n",
       "       [-0.03202763]])"
      ]
     },
     "execution_count": 142,
     "metadata": {},
     "output_type": "execute_result"
    }
   ],
   "source": [
    "int_term"
   ]
  },
  {
   "cell_type": "code",
   "execution_count": null,
   "id": "3de25b9a-dfb7-4016-977c-cba231495ab7",
   "metadata": {},
   "outputs": [],
   "source": []
  },
  {
   "cell_type": "code",
   "execution_count": 204,
   "id": "fe599581-d6c5-4410-9f29-e7cb394976db",
   "metadata": {},
   "outputs": [],
   "source": [
    "#######################################"
   ]
  },
  {
   "cell_type": "code",
   "execution_count": 210,
   "id": "08991406-9a0f-419a-8fd2-75dc3c09f567",
   "metadata": {},
   "outputs": [],
   "source": [
    "X = pd.DataFrame()"
   ]
  },
  {
   "cell_type": "code",
   "execution_count": 212,
   "id": "7b507b3d-a47b-479e-b66c-7d76db688b64",
   "metadata": {},
   "outputs": [
    {
     "data": {
      "text/html": [
       "<div>\n",
       "<style scoped>\n",
       "    .dataframe tbody tr th:only-of-type {\n",
       "        vertical-align: middle;\n",
       "    }\n",
       "\n",
       "    .dataframe tbody tr th {\n",
       "        vertical-align: top;\n",
       "    }\n",
       "\n",
       "    .dataframe thead th {\n",
       "        text-align: right;\n",
       "    }\n",
       "</style>\n",
       "<table border=\"1\" class=\"dataframe\">\n",
       "  <thead>\n",
       "    <tr style=\"text-align: right;\">\n",
       "      <th></th>\n",
       "      <th>0</th>\n",
       "    </tr>\n",
       "  </thead>\n",
       "  <tbody>\n",
       "    <tr>\n",
       "      <th>0</th>\n",
       "      <td>1</td>\n",
       "    </tr>\n",
       "    <tr>\n",
       "      <th>1</th>\n",
       "      <td>2</td>\n",
       "    </tr>\n",
       "    <tr>\n",
       "      <th>2</th>\n",
       "      <td>3</td>\n",
       "    </tr>\n",
       "  </tbody>\n",
       "</table>\n",
       "</div>"
      ],
      "text/plain": [
       "   0\n",
       "0  1\n",
       "1  2\n",
       "2  3"
      ]
     },
     "execution_count": 212,
     "metadata": {},
     "output_type": "execute_result"
    }
   ],
   "source": [
    "X"
   ]
  },
  {
   "cell_type": "code",
   "execution_count": 236,
   "id": "5601e518-a171-49ea-8842-f7c50cc39548",
   "metadata": {},
   "outputs": [],
   "source": [
    "from Kernel_Perceptron_F import KernelizedPerceptron "
   ]
  },
  {
   "cell_type": "code",
   "execution_count": 242,
   "id": "be31e1df-4349-4b5e-80bb-d952774a4540",
   "metadata": {},
   "outputs": [
    {
     "data": {
      "text/plain": [
       "array([-1., -1., -1.,  1.,  1., -1., -1.,  1.,  1., -1.,  1.,  1., -1.,\n",
       "        1.,  1.,  1., -1.,  1.,  1.,  1., -1., -1., -1., -1.,  1., -1.,\n",
       "       -1.,  1.,  1.,  1., -1.,  1., -1., -1., -1.,  1., -1.,  1., -1.,\n",
       "       -1., -1.,  1., -1., -1.,  1., -1.,  1., -1., -1.,  1., -1., -1.,\n",
       "       -1.,  1.,  1., -1., -1., -1., -1.,  1., -1., -1., -1.,  1.,  1.,\n",
       "       -1.,  1.,  1.,  1.,  1., -1., -1.,  1., -1.,  1.,  1., -1., -1.,\n",
       "        1., -1., -1., -1., -1.,  1.,  1.,  1., -1., -1., -1., -1., -1.,\n",
       "       -1., -1., -1.,  1., -1., -1., -1.,  1., -1.,  1.,  1., -1., -1.,\n",
       "        1., -1.,  1.,  1., -1., -1., -1., -1., -1., -1., -1.,  1.,  1.,\n",
       "       -1., -1., -1.,  1.,  1., -1., -1.,  1.,  1.,  1., -1.,  1.,  1.,\n",
       "       -1.,  1.,  1., -1.,  1.,  1.,  1.,  1., -1.,  1.,  1., -1.,  1.,\n",
       "        1., -1.,  1.,  1., -1., -1.,  1., -1.,  1.,  1., -1.,  1., -1.,\n",
       "        1.,  1., -1., -1., -1.,  1.,  1., -1., -1., -1.,  1.,  1.,  1.,\n",
       "       -1., -1., -1., -1., -1., -1.,  1., -1.,  1., -1., -1.,  1.,  1.,\n",
       "       -1.,  1.,  1.,  1., -1.,  1., -1.,  1., -1.,  1., -1.,  1.,  1.,\n",
       "        1.,  1.,  1., -1.,  1.,  1., -1.,  1.,  1., -1., -1.,  1., -1.,\n",
       "       -1.,  1.,  1.,  1., -1., -1.,  1., -1., -1., -1.,  1., -1., -1.,\n",
       "       -1., -1.,  1., -1.,  1.,  1., -1., -1.,  1., -1., -1., -1.,  1.,\n",
       "        1.,  1., -1., -1.,  1., -1.,  1.,  1.,  1., -1.,  1., -1.,  1.,\n",
       "       -1., -1., -1., -1., -1., -1.,  1., -1.,  1.,  1., -1., -1., -1.,\n",
       "       -1., -1., -1.,  1., -1., -1.,  1., -1., -1.,  1.,  1., -1.,  1.,\n",
       "       -1.,  1., -1., -1.,  1.,  1., -1.,  1., -1.,  1.,  1., -1., -1.,\n",
       "       -1., -1., -1.,  1., -1.,  1.,  1., -1.,  1., -1., -1.,  1., -1.,\n",
       "       -1.])"
      ]
     },
     "execution_count": 242,
     "metadata": {},
     "output_type": "execute_result"
    }
   ],
   "source": [
    "# Polynomial Kernel\n",
    "model_poly = KernelizedPerceptron(kernel=\"poly\")  # Instantiation\n",
    "model_class=KernelizedPerceptron(kernel=\"rbf\", degree=2, gamma=1.0)\n",
    "\n",
    "model_class.fit(X_train, y_train)\n",
    "\n",
    "model_class.predict(X_test)"
   ]
  },
  {
   "cell_type": "code",
   "execution_count": 244,
   "id": "6d68d811-bc87-4691-98ff-9a86f3f13d15",
   "metadata": {},
   "outputs": [
    {
     "data": {
      "text/plain": [
       "0.78"
      ]
     },
     "execution_count": 244,
     "metadata": {},
     "output_type": "execute_result"
    }
   ],
   "source": [
    "y_pred = model_class.predict(X_test)\n",
    "accuracy_score(y_test,y_pred) "
   ]
  },
  {
   "cell_type": "code",
   "execution_count": null,
   "id": "1a194b05-8ebf-4b68-98b2-eba3ab7d8a54",
   "metadata": {},
   "outputs": [],
   "source": []
  },
  {
   "cell_type": "code",
   "execution_count": 7,
   "id": "e107c4e2-6f00-43b5-89bc-bcfa3c44ce85",
   "metadata": {},
   "outputs": [],
   "source": [
    "from Kernel_Pegasos_SVM_F2 import KernelizedPegasosSVM"
   ]
  },
  {
   "cell_type": "code",
   "execution_count": null,
   "id": "8d1f831e-a0c5-4ba7-bf5b-c7e03b41707b",
   "metadata": {},
   "outputs": [],
   "source": []
  },
  {
   "cell_type": "code",
   "execution_count": 9,
   "id": "16380a15-91b9-4e35-a3ac-2f52cfdd5527",
   "metadata": {},
   "outputs": [],
   "source": [
    "model = KernelizedPegasosSVM(kernel='rbf', gamma=0.5, batch_size=32)"
   ]
  },
  {
   "cell_type": "code",
   "execution_count": 11,
   "id": "544926a0-d5aa-4f25-bb3c-7421bd5cef49",
   "metadata": {},
   "outputs": [],
   "source": [
    "model.train(X_train, y_train)"
   ]
  },
  {
   "cell_type": "code",
   "execution_count": 15,
   "id": "c2cb5de8-f0ef-4bb7-9cb2-c867ca19fe43",
   "metadata": {},
   "outputs": [],
   "source": [
    "predictions = model.predict(X_test)"
   ]
  },
  {
   "cell_type": "code",
   "execution_count": 17,
   "id": "c967c90a-9201-4efb-a904-64ad9d33b8b7",
   "metadata": {},
   "outputs": [
    {
     "name": "stdout",
     "output_type": "stream",
     "text": [
      "Accuracy: 0.78\n"
     ]
    }
   ],
   "source": [
    "accuracy = np.mean(predictions == y_test)\n",
    "print(f\"Accuracy: {accuracy:.2f}\")"
   ]
  },
  {
   "cell_type": "code",
   "execution_count": null,
   "id": "d3266802-43e8-4278-90aa-342f0def2af9",
   "metadata": {},
   "outputs": [],
   "source": []
  },
  {
   "cell_type": "code",
   "execution_count": null,
   "id": "5bf4ec1d-0d0f-4ee9-9a57-d72a1fcb247f",
   "metadata": {},
   "outputs": [],
   "source": []
  },
  {
   "cell_type": "code",
   "execution_count": 256,
   "id": "1bf32e04-08e0-4634-a95f-f9bdaeb4f86d",
   "metadata": {},
   "outputs": [
    {
     "data": {
      "text/plain": [
       "numpy.ndarray"
      ]
     },
     "execution_count": 256,
     "metadata": {},
     "output_type": "execute_result"
    }
   ],
   "source": [
    "type(X_train)"
   ]
  },
  {
   "cell_type": "code",
   "execution_count": 258,
   "id": "ad4851cc-3392-43be-9bcb-6e94b1abfcae",
   "metadata": {},
   "outputs": [
    {
     "data": {
      "text/plain": [
       "(700, 20)"
      ]
     },
     "execution_count": 258,
     "metadata": {},
     "output_type": "execute_result"
    }
   ],
   "source": [
    "X_train.shape"
   ]
  },
  {
   "cell_type": "code",
   "execution_count": 260,
   "id": "dbdba9a4-b178-4a7f-9623-c3bdd87817f3",
   "metadata": {},
   "outputs": [
    {
     "data": {
      "text/plain": [
       "numpy.ndarray"
      ]
     },
     "execution_count": 260,
     "metadata": {},
     "output_type": "execute_result"
    }
   ],
   "source": [
    "type(y_train)"
   ]
  },
  {
   "cell_type": "code",
   "execution_count": 262,
   "id": "f06fa24a-f5d8-4fd8-bfc1-4b795aea13c7",
   "metadata": {},
   "outputs": [
    {
     "data": {
      "text/plain": [
       "(700,)"
      ]
     },
     "execution_count": 262,
     "metadata": {},
     "output_type": "execute_result"
    }
   ],
   "source": [
    "y_train.shape"
   ]
  },
  {
   "cell_type": "code",
   "execution_count": null,
   "id": "03bee5bf-f27d-4c2a-b010-c6792fc86f73",
   "metadata": {},
   "outputs": [],
   "source": []
  },
  {
   "cell_type": "code",
   "execution_count": null,
   "id": "799d72fc-17e3-4a66-9a81-0fda96c62ae0",
   "metadata": {},
   "outputs": [],
   "source": []
  },
  {
   "cell_type": "code",
   "execution_count": null,
   "id": "a0bb5be0-1f8f-4c10-9a5f-f219d91bafa5",
   "metadata": {},
   "outputs": [],
   "source": []
  },
  {
   "cell_type": "code",
   "execution_count": null,
   "id": "871289d0-01c0-4be2-9970-17e14aafc715",
   "metadata": {},
   "outputs": [],
   "source": []
  },
  {
   "cell_type": "code",
   "execution_count": null,
   "id": "2678f179-3920-49b5-96d1-8eb290d44e4d",
   "metadata": {},
   "outputs": [],
   "source": []
  },
  {
   "cell_type": "code",
   "execution_count": null,
   "id": "a6029b9f-12df-4091-88e3-0ccfb3fac2b0",
   "metadata": {},
   "outputs": [],
   "source": []
  },
  {
   "cell_type": "code",
   "execution_count": null,
   "id": "da2b7a2a-c880-4688-a635-e2d4aa94944b",
   "metadata": {},
   "outputs": [],
   "source": []
  }
 ],
 "metadata": {
  "kernelspec": {
   "display_name": "Python 3 (ipykernel)",
   "language": "python",
   "name": "python3"
  },
  "language_info": {
   "codemirror_mode": {
    "name": "ipython",
    "version": 3
   },
   "file_extension": ".py",
   "mimetype": "text/x-python",
   "name": "python",
   "nbconvert_exporter": "python",
   "pygments_lexer": "ipython3",
   "version": "3.11.9"
  }
 },
 "nbformat": 4,
 "nbformat_minor": 5
}
